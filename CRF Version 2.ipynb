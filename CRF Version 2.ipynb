{
 "cells": [
  {
   "cell_type": "code",
   "execution_count": 2,
   "id": "2b8fdd68-fe19-4d93-9536-4a337e23f058",
   "metadata": {},
   "outputs": [],
   "source": [
    "from datasets import load_dataset\n",
    "import sklearn_crfsuite\n",
    "from sklearn_crfsuite import metrics\n",
    "from sklearn_crfsuite import scorers\n",
    "from sklearn_crfsuite import metrics\n",
    "\n",
    "# Load dataset\n",
    "dataset = load_dataset(\"wnut_17\")\n"
   ]
  },
  {
   "cell_type": "code",
   "execution_count": 44,
   "id": "9d5a14c9-24b7-4c8e-abca-f58ddcd14f41",
   "metadata": {},
   "outputs": [
    {
     "name": "stdout",
     "output_type": "stream",
     "text": [
      "['O', 'B-corporation', 'I-corporation', 'B-creative-work', 'I-creative-work', 'B-group', 'I-group', 'B-location', 'I-location', 'B-person', 'I-person', 'B-product', 'I-product']\n",
      "Dataset({\n",
      "    features: ['id', 'tokens', 'ner_tags'],\n",
      "    num_rows: 3394\n",
      "})\n",
      "Dataset({\n",
      "    features: ['id', 'tokens', 'ner_tags'],\n",
      "    num_rows: 1287\n",
      "})\n",
      "Dataset({\n",
      "    features: ['id', 'tokens', 'ner_tags'],\n",
      "    num_rows: 1009\n",
      "})\n"
     ]
    }
   ],
   "source": [
    "def word2features(sent, i):\n",
    "    word = sent[i]\n",
    "    features = {\n",
    "        'bias': 1.0,\n",
    "        'word.lower()': word.lower(),\n",
    "        'word[-3:]': word[-3:],\n",
    "        'word[-2:]': word[-2:],\n",
    "        'word.isupper()': word.isupper(),\n",
    "        'word.istitle()': word.istitle(),\n",
    "        'word.isdigit()': word.isdigit(),\n",
    "    }\n",
    "    if i > 0:\n",
    "        word1 = sent[i-1]\n",
    "        features.update({\n",
    "            '-1:word.lower()': word1.lower(),\n",
    "            '-1:word.istitle()': word1.istitle(),\n",
    "            '-1:word.isupper()': word1.isupper(),\n",
    "        })\n",
    "    else:\n",
    "        features['BOS'] = True\n",
    "\n",
    "    if i < len(sent)-1:\n",
    "        word1 = sent[i+1]\n",
    "        features.update({\n",
    "            '+1:word.lower()': word1.lower(),\n",
    "            '+1:word.istitle()': word1.istitle(),\n",
    "            '+1:word.isupper()': word1.isupper(),\n",
    "        })\n",
    "    else:\n",
    "        features['EOS'] = True\n",
    "    # print(features[0])\n",
    "    return features\n",
    "\n",
    "def extract_features(doc):\n",
    "    return [word2features(doc, i) for i in range(len(doc))]\n",
    "\n",
    "def extract_labels(doc, label_list):\n",
    "    return [label_list[label] for label in doc]\n",
    "\n",
    "# Assuming the dataset provides a 'features' object with a mapping of tags\n",
    "label_list = dataset['train'].features['ner_tags'].feature.names\n",
    "print(label_list)\n",
    "# Prepare the data\n",
    "X_train = [extract_features(sent['tokens']) for sent in dataset['train']]\n",
    "print(dataset['train'])\n",
    "y_train = [extract_labels(sent['ner_tags'], label_list) for sent in dataset['train']]\n",
    "X_test = [extract_features(sent['tokens']) for sent in dataset['test']]\n",
    "print(dataset['test'])\n",
    "print(dataset['validation'])\n",
    "y_test = [extract_labels(sent['ner_tags'], label_list) for sent in dataset['test']]\n"
   ]
  },
  {
   "cell_type": "code",
   "execution_count": 45,
   "id": "9c8a5dff-04be-4c73-a42c-e60357400ab2",
   "metadata": {},
   "outputs": [
    {
     "name": "stdout",
     "output_type": "stream",
     "text": [
      "F1 Score: 0.9018296551943255\n",
      "Precision: 0.8931341083648305\n",
      "Recall: 0.9289133965974181\n"
     ]
    }
   ],
   "source": [
    "import sklearn_crfsuite\n",
    "from sklearn_crfsuite import metrics\n",
    "\n",
    "# Create and train the CRF model\n",
    "crf = sklearn_crfsuite.CRF(\n",
    "    algorithm='lbfgs',\n",
    "    c1=0.1,\n",
    "    c2=0.1,\n",
    "    max_iterations=100,\n",
    "    all_possible_transitions=True\n",
    ")\n",
    "\n",
    "crf.fit(X_train, y_train)\n",
    "\n",
    "# Predict on the test set\n",
    "y_pred = crf.predict(X_test)\n",
    "\n",
    "# Calculate and print out the metrics\n",
    "print(\"F1 Score:\", metrics.flat_f1_score(y_test, y_pred, average='weighted'))\n",
    "print(\"Precision:\", metrics.flat_precision_score(y_test, y_pred, average='weighted'))\n",
    "print(\"Recall:\", metrics.flat_recall_score(y_test, y_pred, average='weighted'))\n"
   ]
  },
  {
   "cell_type": "code",
   "execution_count": 46,
   "id": "0a55c16b-c880-489a-9fe8-33bd2c4b21a3",
   "metadata": {},
   "outputs": [
    {
     "name": "stdout",
     "output_type": "stream",
     "text": [
      "BIO Tags Available in WNUT-17 Dataset:\n",
      "O\n",
      "B-corporation\n",
      "I-corporation\n",
      "B-creative-work\n",
      "I-creative-work\n",
      "B-group\n",
      "I-group\n",
      "B-location\n",
      "I-location\n",
      "B-person\n",
      "I-person\n",
      "B-product\n",
      "I-product\n"
     ]
    }
   ],
   "source": [
    "# Retrieve the tag names from the dataset's feature schema\n",
    "tag_names = dataset['train'].features['ner_tags'].feature.names\n",
    "\n",
    "# Print the BIO tags\n",
    "print(\"BIO Tags Available in WNUT-17 Dataset:\")\n",
    "for tag in tag_names:\n",
    "    print(tag)\n"
   ]
  },
  {
   "cell_type": "code",
   "execution_count": 47,
   "id": "18f9153d-0afe-4a2e-bf45-175d54756438",
   "metadata": {},
   "outputs": [
    {
     "name": "stdout",
     "output_type": "stream",
     "text": [
      "[('My', 'O'), ('name', 'O'), ('is', 'O'), ('Sarah,', 'O'), ('I', 'O'), ('live', 'O'), ('in', 'O'), ('London', 'B-location'), ('and', 'O'), ('New', 'B-location'), ('York', 'I-location'), ('with', 'O'), ('Obama.', 'B-person'), ('Google', 'I-person'), ('is', 'O'), ('a', 'O'), ('company.', 'O'), ('i', 'O'), ('am', 'O'), ('using', 'O'), ('java', 'O'), ('to', 'O'), ('develop', 'O'), ('this', 'O')]\n"
     ]
    }
   ],
   "source": [
    "def predict_sentence(sentence):\n",
    "    tokens = sentence.split()  # Simple tokenization, consider using a proper tokenizer\n",
    "    features = [word2features(tokens, i) for i in range(len(tokens))]\n",
    "    tags = crf.predict_single(features)\n",
    "    return list(zip(tokens, tags))\n",
    "\n",
    "# Example usage\n",
    "sentence = \"My name is Sarah, I live in London and New York with Obama. Google is a company. i am using java to develop this\"\n",
    "print(predict_sentence(sentence))\n"
   ]
  },
  {
   "cell_type": "code",
   "execution_count": null,
   "id": "8fb5c62b-8c18-4b8a-a759-092aef72d2c1",
   "metadata": {},
   "outputs": [],
   "source": []
  }
 ],
 "metadata": {
  "kernelspec": {
   "display_name": "Python 3 (ipykernel)",
   "language": "python",
   "name": "python3"
  },
  "language_info": {
   "codemirror_mode": {
    "name": "ipython",
    "version": 3
   },
   "file_extension": ".py",
   "mimetype": "text/x-python",
   "name": "python",
   "nbconvert_exporter": "python",
   "pygments_lexer": "ipython3",
   "version": "3.9.18"
  }
 },
 "nbformat": 4,
 "nbformat_minor": 5
}
