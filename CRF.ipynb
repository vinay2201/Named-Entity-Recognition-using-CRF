{
 "cells": [
  {
   "cell_type": "code",
   "execution_count": 19,
   "id": "bbff1635-5b53-4c6b-93a6-afc25e289c55",
   "metadata": {},
   "outputs": [
    {
     "name": "stdout",
     "output_type": "stream",
     "text": [
      "Requirement already satisfied: datasets in c:\\users\\vinay\\miniconda3\\envs\\d2l\\lib\\site-packages (2.19.1)\n",
      "Requirement already satisfied: sklearn-crfsuite in c:\\users\\vinay\\miniconda3\\envs\\d2l\\lib\\site-packages (0.3.6)\n",
      "Requirement already satisfied: filelock in c:\\users\\vinay\\miniconda3\\envs\\d2l\\lib\\site-packages (from datasets) (3.13.1)\n",
      "Requirement already satisfied: numpy>=1.17 in c:\\users\\vinay\\miniconda3\\envs\\d2l\\lib\\site-packages (from datasets) (1.23.5)\n",
      "Requirement already satisfied: pyarrow>=12.0.0 in c:\\users\\vinay\\miniconda3\\envs\\d2l\\lib\\site-packages (from datasets) (16.0.0)\n",
      "Requirement already satisfied: pyarrow-hotfix in c:\\users\\vinay\\miniconda3\\envs\\d2l\\lib\\site-packages (from datasets) (0.6)\n",
      "Requirement already satisfied: dill<0.3.9,>=0.3.0 in c:\\users\\vinay\\miniconda3\\envs\\d2l\\lib\\site-packages (from datasets) (0.3.8)\n",
      "Requirement already satisfied: pandas in c:\\users\\vinay\\miniconda3\\envs\\d2l\\lib\\site-packages (from datasets) (2.0.3)\n",
      "Requirement already satisfied: requests>=2.19.0 in c:\\users\\vinay\\miniconda3\\envs\\d2l\\lib\\site-packages (from datasets) (2.31.0)\n",
      "Requirement already satisfied: tqdm>=4.62.1 in c:\\users\\vinay\\miniconda3\\envs\\d2l\\lib\\site-packages (from datasets) (4.66.4)\n",
      "Requirement already satisfied: xxhash in c:\\users\\vinay\\miniconda3\\envs\\d2l\\lib\\site-packages (from datasets) (3.4.1)\n",
      "Requirement already satisfied: multiprocess in c:\\users\\vinay\\miniconda3\\envs\\d2l\\lib\\site-packages (from datasets) (0.70.16)\n",
      "Requirement already satisfied: fsspec<=2024.3.1,>=2023.1.0 in c:\\users\\vinay\\miniconda3\\envs\\d2l\\lib\\site-packages (from fsspec[http]<=2024.3.1,>=2023.1.0->datasets) (2024.3.1)\n",
      "Requirement already satisfied: aiohttp in c:\\users\\vinay\\miniconda3\\envs\\d2l\\lib\\site-packages (from datasets) (3.9.5)\n",
      "Requirement already satisfied: huggingface-hub>=0.21.2 in c:\\users\\vinay\\miniconda3\\envs\\d2l\\lib\\site-packages (from datasets) (0.23.0)\n",
      "Requirement already satisfied: packaging in c:\\users\\vinay\\miniconda3\\envs\\d2l\\lib\\site-packages (from datasets) (23.2)\n",
      "Requirement already satisfied: pyyaml>=5.1 in c:\\users\\vinay\\miniconda3\\envs\\d2l\\lib\\site-packages (from datasets) (6.0.1)\n",
      "Requirement already satisfied: python-crfsuite>=0.8.3 in c:\\users\\vinay\\miniconda3\\envs\\d2l\\lib\\site-packages (from sklearn-crfsuite) (0.9.10)\n",
      "Requirement already satisfied: six in c:\\users\\vinay\\miniconda3\\envs\\d2l\\lib\\site-packages (from sklearn-crfsuite) (1.16.0)\n",
      "Requirement already satisfied: tabulate in c:\\users\\vinay\\miniconda3\\envs\\d2l\\lib\\site-packages (from sklearn-crfsuite) (0.9.0)\n",
      "Requirement already satisfied: aiosignal>=1.1.2 in c:\\users\\vinay\\miniconda3\\envs\\d2l\\lib\\site-packages (from aiohttp->datasets) (1.3.1)\n",
      "Requirement already satisfied: attrs>=17.3.0 in c:\\users\\vinay\\miniconda3\\envs\\d2l\\lib\\site-packages (from aiohttp->datasets) (23.2.0)\n",
      "Requirement already satisfied: frozenlist>=1.1.1 in c:\\users\\vinay\\miniconda3\\envs\\d2l\\lib\\site-packages (from aiohttp->datasets) (1.4.1)\n",
      "Requirement already satisfied: multidict<7.0,>=4.5 in c:\\users\\vinay\\miniconda3\\envs\\d2l\\lib\\site-packages (from aiohttp->datasets) (6.0.5)\n",
      "Requirement already satisfied: yarl<2.0,>=1.0 in c:\\users\\vinay\\miniconda3\\envs\\d2l\\lib\\site-packages (from aiohttp->datasets) (1.9.4)\n",
      "Requirement already satisfied: async-timeout<5.0,>=4.0 in c:\\users\\vinay\\miniconda3\\envs\\d2l\\lib\\site-packages (from aiohttp->datasets) (4.0.3)\n",
      "Requirement already satisfied: typing-extensions>=3.7.4.3 in c:\\users\\vinay\\miniconda3\\envs\\d2l\\lib\\site-packages (from huggingface-hub>=0.21.2->datasets) (4.10.0)\n",
      "Requirement already satisfied: charset-normalizer<4,>=2 in c:\\users\\vinay\\miniconda3\\envs\\d2l\\lib\\site-packages (from requests>=2.19.0->datasets) (3.3.2)\n",
      "Requirement already satisfied: idna<4,>=2.5 in c:\\users\\vinay\\miniconda3\\envs\\d2l\\lib\\site-packages (from requests>=2.19.0->datasets) (3.6)\n",
      "Requirement already satisfied: urllib3<3,>=1.21.1 in c:\\users\\vinay\\miniconda3\\envs\\d2l\\lib\\site-packages (from requests>=2.19.0->datasets) (2.2.1)\n",
      "Requirement already satisfied: certifi>=2017.4.17 in c:\\users\\vinay\\miniconda3\\envs\\d2l\\lib\\site-packages (from requests>=2.19.0->datasets) (2024.2.2)\n",
      "Requirement already satisfied: colorama in c:\\users\\vinay\\miniconda3\\envs\\d2l\\lib\\site-packages (from tqdm>=4.62.1->datasets) (0.4.6)\n",
      "Requirement already satisfied: python-dateutil>=2.8.2 in c:\\users\\vinay\\miniconda3\\envs\\d2l\\lib\\site-packages (from pandas->datasets) (2.9.0.post0)\n",
      "Requirement already satisfied: pytz>=2020.1 in c:\\users\\vinay\\miniconda3\\envs\\d2l\\lib\\site-packages (from pandas->datasets) (2024.1)\n",
      "Requirement already satisfied: tzdata>=2022.1 in c:\\users\\vinay\\miniconda3\\envs\\d2l\\lib\\site-packages (from pandas->datasets) (2024.1)\n",
      "Note: you may need to restart the kernel to use updated packages.\n"
     ]
    }
   ],
   "source": [
    "pip install datasets sklearn-crfsuite\n"
   ]
  },
  {
   "cell_type": "code",
   "execution_count": 22,
   "id": "8f6f9623-ff00-4880-9aae-8ec5d8d97709",
   "metadata": {},
   "outputs": [],
   "source": [
    "from datasets import load_dataset\n",
    "import sklearn_crfsuite\n",
    "from sklearn_crfsuite import metrics\n",
    "\n",
    "dataset = load_dataset(\"wnut_17\")\n",
    "\n",
    "def word2features(tokens, i):\n",
    "    word = tokens[i]\n",
    "    features = {\n",
    "        'bias': 1.0,\n",
    "        'word.lower()': word.lower(),\n",
    "        'word[-3:]': word[-3:],\n",
    "        'word[-2:]': word[-2:],\n",
    "        'word.isupper()': word.isupper(),\n",
    "        'word.istitle()': word.istitle(),\n",
    "        'word.isdigit()': word.isdigit(),\n",
    "    }\n",
    "    if i > 0:\n",
    "        word1 = tokens[i-1]\n",
    "        features.update({\n",
    "            '-1:word.lower()': word1.lower(),\n",
    "            '-1:word.istitle()': word1.istitle(),\n",
    "            '-1:word.isupper()': word1.isupper(),\n",
    "        })\n",
    "    else:\n",
    "        features['BOS'] = True\n",
    "\n",
    "    if i < len(tokens) - 1:\n",
    "        word1 = tokens[i + 1]\n",
    "        features.update({\n",
    "            '+1:word.lower()': word1.lower(),\n",
    "            '+1:word.istitle()': word1.istitle(),\n",
    "            '+1:word.isupper()': word1.isupper(),\n",
    "        })\n",
    "    else:\n",
    "        features['EOS'] = True\n",
    "\n",
    "    return features\n",
    "\n",
    "def extract_features(doc):\n",
    "    return [word2features(doc['tokens'], i) for i in range(len(doc['tokens']))]\n",
    "\n",
    "def extract_labels(doc):\n",
    "    return [str(label) for label in doc['ner_tags']]  # Convert each label to a string\n",
    "\n",
    "train_sents = dataset['train']\n",
    "X_train = [extract_features(sent) for sent in train_sents]\n",
    "y_train = [extract_labels(sent) for sent in train_sents]\n"
   ]
  },
  {
   "cell_type": "code",
   "execution_count": 24,
   "id": "2eb02196-c043-4208-aecf-630046ff9dd0",
   "metadata": {},
   "outputs": [
    {
     "name": "stdout",
     "output_type": "stream",
     "text": [
      "Model trained successfully\n",
      "Accuracy: 0.9289133965974181\n",
      "Precision: 0.8931341083648303\n",
      "Recall: 0.9289133965974181\n",
      "F1 Score: 0.9018296551943256\n"
     ]
    }
   ],
   "source": [
    "import sklearn_crfsuite\n",
    "from sklearn_crfsuite import metrics\n",
    "from sklearn.metrics import precision_score, recall_score, f1_score\n",
    "\n",
    "try:\n",
    "    crf = sklearn_crfsuite.CRF(\n",
    "        algorithm='lbfgs',\n",
    "        c1=0.1,\n",
    "        c2=0.1,\n",
    "        max_iterations=100,\n",
    "        all_possible_transitions=True\n",
    "    )\n",
    "    crf.fit(X_train, y_train)\n",
    "    print(\"Model trained successfully\")\n",
    "except Exception as e:\n",
    "    print(\"An error occurred:\", e)\n",
    "\n",
    "try:\n",
    "    y_pred = crf.predict(X_test)\n",
    "    y_pred_flat = [item for sublist in y_pred for item in sublist]\n",
    "    y_test_flat = [item for sublist in y_test for item in sublist]\n",
    "    \n",
    "    print(\"Accuracy:\", metrics.flat_accuracy_score(y_test, y_pred))\n",
    "    print(\"Precision:\", precision_score(y_test_flat, y_pred_flat, average='weighted'))\n",
    "    print(\"Recall:\", recall_score(y_test_flat, y_pred_flat, average='weighted'))\n",
    "    print(\"F1 Score:\", f1_score(y_test_flat, y_pred_flat, average='weighted'))\n",
    "except Exception as e:\n",
    "    print(\"An error occurred during prediction or evaluation:\", e)\n"
   ]
  },
  {
   "cell_type": "code",
   "execution_count": 31,
   "id": "b545705f-b927-446f-85c0-80b4b08d5411",
   "metadata": {},
   "outputs": [
    {
     "name": "stdout",
     "output_type": "stream",
     "text": [
      "My              0     0.9943\n",
      "name            0     0.9994\n",
      "is              0     0.9998\n",
      "Sarah,          0     0.8426\n",
      "I               0     0.9652\n",
      "live            0     0.9999\n",
      "in              0     0.9994\n",
      "Empire          7     0.9034\n",
      "state           0     0.9338\n",
      "building.       0     0.9950\n",
      "I               0     0.9998\n",
      "like            0     0.9999\n",
      "my              0     0.9998\n",
      "apple           0     0.9924\n",
      "phone.          0     0.9981\n"
     ]
    }
   ],
   "source": [
    "def process_new_sentence(sentence, crf_model):\n",
    "    # Tokenize the sentence - assuming a simple split for illustration; consider a proper tokenizer for complex scenarios\n",
    "    tokens = sentence.split()\n",
    "    \n",
    "    # Extract features for each token in the sentence\n",
    "    features = [word2features(tokens, i) for i in range(len(tokens))]\n",
    "    \n",
    "    # Predict the tags using the trained CRF model\n",
    "    tags = crf_model.predict_single(features)\n",
    "    \n",
    "    # Obtain the marginal probabilities for each tag for confidence scoring\n",
    "    probabilities = crf_model.predict_marginals_single(features)\n",
    "    \n",
    "    # Extract the highest probability for each token to serve as the confidence score\n",
    "    confidence_scores = [max(prob.values()) for prob in probabilities]\n",
    "    \n",
    "    return tokens, tags, confidence_scores\n",
    "\n",
    "# Example usage:\n",
    "sentence = \"My name is Sarah, I live in Empire state building. I like my apple phone.\"\n",
    "tokens, predicted_tags, confidence_scores = process_new_sentence(sentence, crf)\n",
    "\n",
    "for token, tag, score in zip(tokens, predicted_tags, confidence_scores):\n",
    "    print(f\"{token:15} {tag:5} {score:.4f}\")\n"
   ]
  },
  {
   "cell_type": "code",
   "execution_count": null,
   "id": "c2972af8-e279-4101-81ff-c4656813ff40",
   "metadata": {},
   "outputs": [],
   "source": []
  }
 ],
 "metadata": {
  "kernelspec": {
   "display_name": "Python 3 (ipykernel)",
   "language": "python",
   "name": "python3"
  },
  "language_info": {
   "codemirror_mode": {
    "name": "ipython",
    "version": 3
   },
   "file_extension": ".py",
   "mimetype": "text/x-python",
   "name": "python",
   "nbconvert_exporter": "python",
   "pygments_lexer": "ipython3",
   "version": "3.9.18"
  }
 },
 "nbformat": 4,
 "nbformat_minor": 5
}
